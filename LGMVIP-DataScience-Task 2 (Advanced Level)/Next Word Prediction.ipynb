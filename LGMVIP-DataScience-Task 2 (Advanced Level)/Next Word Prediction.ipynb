{
 "cells": [
  {
   "cell_type": "markdown",
   "id": "e1b992d0",
   "metadata": {},
   "source": [
    "## Problem statement\n",
    "The dataset is a book named 'Adventure of Sherlock Holmes'. We have to train a RNN (Recurrent Neural Network) to predict the next word.\n",
    "\n",
    "Dataset: https://drive.google.com/file/d/1GeUzNVqiixXHnTl8oNiQ2W3CynX_lsu2/view"
   ]
  },
  {
   "cell_type": "markdown",
   "id": "dca4e1a4",
   "metadata": {},
   "source": [
    "## Import necessary libraries"
   ]
  },
  {
   "cell_type": "code",
   "execution_count": 1,
   "id": "45161796",
   "metadata": {},
   "outputs": [],
   "source": [
    "import numpy as np\n",
    "import matplotlib.pyplot as plt\n",
    "\n",
    "from warnings import filterwarnings\n",
    "filterwarnings('ignore')"
   ]
  },
  {
   "cell_type": "markdown",
   "id": "0be9076c",
   "metadata": {},
   "source": [
    "## Load data"
   ]
  },
  {
   "cell_type": "code",
   "execution_count": 2,
   "id": "4e6e515c",
   "metadata": {},
   "outputs": [],
   "source": [
    "with open('1661-0.txt','r',encoding='utf-8') as file:\n",
    "    data = file.read()"
   ]
  },
  {
   "cell_type": "code",
   "execution_count": 3,
   "id": "61ef0fc7",
   "metadata": {},
   "outputs": [
    {
     "data": {
      "text/plain": [
       "\"\\ufeff\\nProject Gutenberg's The Adventures of Sherlock Holmes, by Arthur Conan Doyle\\n\\nThis eBook is for the use of anyone anywhere at no cost and with\\nalmost no restrictions whatsoever.  You may copy it, give it away or\\nre-use it under the terms of the Project Gutenberg License included\\nwith this eBook or online at www.gutenberg.net\\n\\n\\nTitle: The Adventures of Sherlock Holmes\\n\\nAuthor: Arthur Conan Doyle\\n\\nRelease Date: November 29, 2002 [EBook #1661]\\nLast Updated: May 20, 2019\\n\\nLanguage: English\\n\\nCharacter set encoding: UTF-8\\n\\n*** START OF THIS PROJECT GUTENBERG EBOOK THE ADVENTURES OF SHERLOCK HOLMES ***\\n\\n\\n\\nProduced by an anonymous Project Gutenberg volunteer and Jose Menendez\\n\\n\\n\\ncover\\n\\n\\n\\nThe Adventures of Sherlock Holmes\\n\\n\\n\\nby Arthur Conan Doyle\\n\\n\\n\\nContents\\n\\n\\n   I.     A Scandal in Bohemia\\n   II.    The Red-Headed League\\n   III.   A Case of Identity\\n   IV.    The Boscombe Valley Mystery\\n   V.     The Five Orange Pips\\n   VI.    The Man with the Twisted Lip\\n   VII.   The Adventure of the Blue \""
      ]
     },
     "execution_count": 3,
     "metadata": {},
     "output_type": "execute_result"
    }
   ],
   "source": [
    "# Viewing data\n",
    "data[0:1000]"
   ]
  },
  {
   "cell_type": "markdown",
   "id": "16294b87",
   "metadata": {},
   "source": [
    "## Data Preprocessing"
   ]
  },
  {
   "cell_type": "markdown",
   "id": "888921af",
   "metadata": {},
   "source": [
    "* ### Removing special characters"
   ]
  },
  {
   "cell_type": "code",
   "execution_count": 4,
   "id": "5fbf6ae8",
   "metadata": {},
   "outputs": [],
   "source": [
    "data = data.replace('\\n', ' ').replace('\\r',' ').replace('\\ufeff',' ')"
   ]
  },
  {
   "cell_type": "code",
   "execution_count": 5,
   "id": "ae17b1c3",
   "metadata": {},
   "outputs": [],
   "source": [
    "import re\n",
    "data = re.sub('[^A-Za-z0-9 ]','',data)"
   ]
  },
  {
   "cell_type": "code",
   "execution_count": 6,
   "id": "af1de0fb",
   "metadata": {},
   "outputs": [
    {
     "data": {
      "text/plain": [
       "'  Project Gutenbergs The Adventures of Sherlock Holmes by Arthur Conan Doyle  This eBook is for the use of anyone anywhere at no cost and with almost no restrictions whatsoever  You may copy it give it away or reuse it under the terms of the Project Gutenberg License included with this eBook or online at wwwgutenbergnet   Title The Adventures of Sherlock Holmes  Author Arthur Conan Doyle  Release Date November 29 2002 EBook 1661 Last Updated May 20 2019  Language English  Character set encoding UTF8   START OF THIS PROJECT GUTENBERG EBOOK THE ADVENTURES OF SHERLOCK HOLMES     Produced by an anonymous Project Gutenberg volunteer and Jose Menendez    cover    The Adventures of Sherlock Holmes    by Arthur Conan Doyle    Contents      I     A Scandal in Bohemia    II    The RedHeaded League    III   A Case of Identity    IV    The Boscombe Valley Mystery    V     The Five Orange Pips    VI    The Man with the Twisted Lip    VII   The Adventure of the Blue Carbuncle    VIII  The Adventure '"
      ]
     },
     "execution_count": 6,
     "metadata": {},
     "output_type": "execute_result"
    }
   ],
   "source": [
    "# Viewing changes in data\n",
    "data[0:1000]"
   ]
  },
  {
   "cell_type": "markdown",
   "id": "6db4c1b7",
   "metadata": {},
   "source": [
    "* ### Tokenize text"
   ]
  },
  {
   "cell_type": "markdown",
   "id": "46429f4e",
   "metadata": {},
   "source": [
    "I will consider first 10000 characters from the data for training. "
   ]
  },
  {
   "cell_type": "code",
   "execution_count": 7,
   "id": "5850f68e",
   "metadata": {},
   "outputs": [],
   "source": [
    "data_train = data[0:10000]"
   ]
  },
  {
   "cell_type": "code",
   "execution_count": 8,
   "id": "7f4e3cc1",
   "metadata": {},
   "outputs": [],
   "source": [
    "from keras.preprocessing.text import Tokenizer\n",
    "tokenizer = Tokenizer() \n",
    "tokenizer.fit_on_texts([data_train])"
   ]
  },
  {
   "cell_type": "code",
   "execution_count": 9,
   "id": "0ae6e4c1",
   "metadata": {},
   "outputs": [],
   "source": [
    "sequence_data = tokenizer.texts_to_sequences([data_train])[0]"
   ]
  },
  {
   "cell_type": "code",
   "execution_count": 10,
   "id": "ebcb1519",
   "metadata": {},
   "outputs": [
    {
     "data": {
      "text/plain": [
       "{'the': 1,\n",
       " 'of': 2,\n",
       " 'and': 3,\n",
       " 'a': 4,\n",
       " 'i': 5,\n",
       " 'to': 6,\n",
       " 'you': 7,\n",
       " 'his': 8,\n",
       " 'it': 9,\n",
       " 'in': 10,\n",
       " 'he': 11,\n",
       " 'was': 12,\n",
       " 'that': 13,\n",
       " 'my': 14,\n",
       " 'is': 15,\n",
       " 'with': 16,\n",
       " 'have': 17,\n",
       " 'which': 18,\n",
       " 'for': 19,\n",
       " 'not': 20,\n",
       " 'from': 21,\n",
       " 'as': 22,\n",
       " 'had': 23,\n",
       " 'do': 24,\n",
       " 'holmes': 25,\n",
       " 'at': 26,\n",
       " 'but': 27,\n",
       " 'be': 28,\n",
       " 'by': 29,\n",
       " 'one': 30,\n",
       " 'this': 31,\n",
       " 'all': 32,\n",
       " 'upon': 33,\n",
       " 'up': 34,\n",
       " 'who': 35,\n",
       " 'me': 36,\n",
       " 'how': 37,\n",
       " 'your': 38,\n",
       " 'are': 39,\n",
       " 'own': 40,\n",
       " 'been': 41,\n",
       " 'or': 42,\n",
       " 'an': 43,\n",
       " 'adventure': 44,\n",
       " 'see': 45,\n",
       " 'said': 46,\n",
       " 'sherlock': 47,\n",
       " 'has': 48,\n",
       " 'seen': 49,\n",
       " 'into': 50,\n",
       " 'there': 51,\n",
       " 'so': 52,\n",
       " 'on': 53,\n",
       " 'know': 54,\n",
       " 'paper': 55,\n",
       " 'project': 56,\n",
       " 'adventures': 57,\n",
       " 'ebook': 58,\n",
       " 'no': 59,\n",
       " 'may': 60,\n",
       " 'bohemia': 61,\n",
       " 'case': 62,\n",
       " 'man': 63,\n",
       " 'him': 64,\n",
       " 'eyes': 65,\n",
       " 'were': 66,\n",
       " 'himself': 67,\n",
       " 'yet': 68,\n",
       " 'little': 69,\n",
       " 'out': 70,\n",
       " 'again': 71,\n",
       " 'then': 72,\n",
       " 'remarked': 73,\n",
       " 'very': 74,\n",
       " 'note': 75,\n",
       " 'what': 76,\n",
       " 'arthur': 77,\n",
       " 'conan': 78,\n",
       " 'doyle': 79,\n",
       " 'under': 80,\n",
       " 'gutenberg': 81,\n",
       " 'she': 82,\n",
       " 'always': 83,\n",
       " 'woman': 84,\n",
       " 'her': 85,\n",
       " 'would': 86,\n",
       " 'such': 87,\n",
       " 'more': 88,\n",
       " 'our': 89,\n",
       " 'some': 90,\n",
       " 'account': 91,\n",
       " 'now': 92,\n",
       " 'practice': 93,\n",
       " 'saw': 94,\n",
       " 'since': 95,\n",
       " 'indeed': 96,\n",
       " 'just': 97,\n",
       " 'deduce': 98,\n",
       " 'if': 99,\n",
       " 'could': 100,\n",
       " 'we': 101,\n",
       " 'small': 102,\n",
       " 'g': 103,\n",
       " 'almost': 104,\n",
       " 'give': 105,\n",
       " 'away': 106,\n",
       " 'last': 107,\n",
       " 'english': 108,\n",
       " 'scandal': 109,\n",
       " 'mystery': 110,\n",
       " 'blue': 111,\n",
       " 'seldom': 112,\n",
       " 'heard': 113,\n",
       " 'any': 114,\n",
       " 'other': 115,\n",
       " 'name': 116,\n",
       " 'whole': 117,\n",
       " 'emotion': 118,\n",
       " 'irene': 119,\n",
       " 'adler': 120,\n",
       " 'particularly': 121,\n",
       " 'mind': 122,\n",
       " 'take': 123,\n",
       " 'most': 124,\n",
       " 'reasoning': 125,\n",
       " 'they': 126,\n",
       " 'doubt': 127,\n",
       " 'strong': 128,\n",
       " 'nature': 129,\n",
       " 'lately': 130,\n",
       " 'us': 131,\n",
       " 'each': 132,\n",
       " 'every': 133,\n",
       " 'baker': 134,\n",
       " 'street': 135,\n",
       " 'week': 136,\n",
       " 'keen': 137,\n",
       " 'study': 138,\n",
       " 'extraordinary': 139,\n",
       " 'powers': 140,\n",
       " 'those': 141,\n",
       " 'clearing': 142,\n",
       " 'time': 143,\n",
       " 'singular': 144,\n",
       " 'these': 145,\n",
       " 'knew': 146,\n",
       " 'when': 147,\n",
       " 'way': 148,\n",
       " 'must': 149,\n",
       " 'dark': 150,\n",
       " 'rooms': 151,\n",
       " 'looked': 152,\n",
       " 'room': 153,\n",
       " 'hands': 154,\n",
       " 'manner': 155,\n",
       " 'work': 156,\n",
       " 'shown': 157,\n",
       " 'chamber': 158,\n",
       " 'think': 159,\n",
       " 'hardly': 160,\n",
       " 'word': 161,\n",
       " 'armchair': 162,\n",
       " 'threw': 163,\n",
       " 'before': 164,\n",
       " 'over': 165,\n",
       " 'watson': 166,\n",
       " 'seven': 167,\n",
       " 'half': 168,\n",
       " 'answered': 169,\n",
       " 'observe': 170,\n",
       " 'did': 171,\n",
       " 'tell': 172,\n",
       " 'came': 173,\n",
       " 'imagine': 174,\n",
       " 'itself': 175,\n",
       " 'where': 176,\n",
       " 'deduction': 177,\n",
       " 'gentleman': 178,\n",
       " 'right': 179,\n",
       " 'process': 180,\n",
       " 'good': 181,\n",
       " 'quite': 182,\n",
       " 'cigarette': 183,\n",
       " 'down': 184,\n",
       " 'frequently': 185,\n",
       " 'steps': 186,\n",
       " 'well': 187,\n",
       " 'many': 188,\n",
       " 'observed': 189,\n",
       " 'interested': 190,\n",
       " 'quarters': 191,\n",
       " 'received': 192,\n",
       " 'data': 193,\n",
       " 'facts': 194,\n",
       " 'suit': 195,\n",
       " 'theories': 196,\n",
       " 'wrote': 197,\n",
       " 'large': 198,\n",
       " 'p': 199,\n",
       " 't': 200,\n",
       " 'make': 201,\n",
       " 'stands': 202,\n",
       " 'german': 203,\n",
       " 'ha': 204,\n",
       " 'gutenbergs': 205,\n",
       " 'use': 206,\n",
       " 'anyone': 207,\n",
       " 'anywhere': 208,\n",
       " 'cost': 209,\n",
       " 'restrictions': 210,\n",
       " 'whatsoever': 211,\n",
       " 'copy': 212,\n",
       " 'reuse': 213,\n",
       " 'terms': 214,\n",
       " 'license': 215,\n",
       " 'included': 216,\n",
       " 'online': 217,\n",
       " 'wwwgutenbergnet': 218,\n",
       " 'title': 219,\n",
       " 'author': 220,\n",
       " 'release': 221,\n",
       " 'date': 222,\n",
       " 'november': 223,\n",
       " '29': 224,\n",
       " '2002': 225,\n",
       " '1661': 226,\n",
       " 'updated': 227,\n",
       " '20': 228,\n",
       " '2019': 229,\n",
       " 'language': 230,\n",
       " 'character': 231,\n",
       " 'set': 232,\n",
       " 'encoding': 233,\n",
       " 'utf8': 234,\n",
       " 'start': 235,\n",
       " 'produced': 236,\n",
       " 'anonymous': 237,\n",
       " 'volunteer': 238,\n",
       " 'jose': 239,\n",
       " 'menendez': 240,\n",
       " 'cover': 241,\n",
       " 'contents': 242,\n",
       " 'ii': 243,\n",
       " 'redheaded': 244,\n",
       " 'league': 245,\n",
       " 'iii': 246,\n",
       " 'identity': 247,\n",
       " 'iv': 248,\n",
       " 'boscombe': 249,\n",
       " 'valley': 250,\n",
       " 'v': 251,\n",
       " 'five': 252,\n",
       " 'orange': 253,\n",
       " 'pips': 254,\n",
       " 'vi': 255,\n",
       " 'twisted': 256,\n",
       " 'lip': 257,\n",
       " 'vii': 258,\n",
       " 'carbuncle': 259,\n",
       " 'viii': 260,\n",
       " 'speckled': 261,\n",
       " 'band': 262,\n",
       " 'ix': 263,\n",
       " 'engineers': 264,\n",
       " 'thumb': 265,\n",
       " 'x': 266,\n",
       " 'noble': 267,\n",
       " 'bachelor': 268,\n",
       " 'xi': 269,\n",
       " 'beryl': 270,\n",
       " 'coronet': 271,\n",
       " 'xii': 272,\n",
       " 'copper': 273,\n",
       " 'beeches': 274,\n",
       " 'mention': 275,\n",
       " 'eclipses': 276,\n",
       " 'predominates': 277,\n",
       " 'sex': 278,\n",
       " 'felt': 279,\n",
       " 'akin': 280,\n",
       " 'love': 281,\n",
       " 'emotions': 282,\n",
       " 'abhorrent': 283,\n",
       " 'cold': 284,\n",
       " 'precise': 285,\n",
       " 'admirably': 286,\n",
       " 'balanced': 287,\n",
       " 'perfect': 288,\n",
       " 'observing': 289,\n",
       " 'machine': 290,\n",
       " 'world': 291,\n",
       " 'lover': 292,\n",
       " 'placed': 293,\n",
       " 'false': 294,\n",
       " 'position': 295,\n",
       " 'never': 296,\n",
       " 'spoke': 297,\n",
       " 'softer': 298,\n",
       " 'passions': 299,\n",
       " 'save': 300,\n",
       " 'gibe': 301,\n",
       " 'sneer': 302,\n",
       " 'admirable': 303,\n",
       " 'things': 304,\n",
       " 'observerexcellent': 305,\n",
       " 'drawing': 306,\n",
       " 'veil': 307,\n",
       " 'mens': 308,\n",
       " 'motives': 309,\n",
       " 'actions': 310,\n",
       " 'trained': 311,\n",
       " 'reasoner': 312,\n",
       " 'admit': 313,\n",
       " 'intrusions': 314,\n",
       " 'delicate': 315,\n",
       " 'finely': 316,\n",
       " 'adjusted': 317,\n",
       " 'temperament': 318,\n",
       " 'introduce': 319,\n",
       " 'distracting': 320,\n",
       " 'factor': 321,\n",
       " 'might': 322,\n",
       " 'throw': 323,\n",
       " 'mental': 324,\n",
       " 'results': 325,\n",
       " 'grit': 326,\n",
       " 'sensitive': 327,\n",
       " 'instrument': 328,\n",
       " 'crack': 329,\n",
       " 'highpower': 330,\n",
       " 'lenses': 331,\n",
       " 'disturbing': 332,\n",
       " 'than': 333,\n",
       " 'late': 334,\n",
       " 'dubious': 335,\n",
       " 'questionable': 336,\n",
       " 'memory': 337,\n",
       " 'marriage': 338,\n",
       " 'drifted': 339,\n",
       " 'complete': 340,\n",
       " 'happiness': 341,\n",
       " 'homecentred': 342,\n",
       " 'interests': 343,\n",
       " 'rise': 344,\n",
       " 'around': 345,\n",
       " 'first': 346,\n",
       " 'finds': 347,\n",
       " 'master': 348,\n",
       " 'establishment': 349,\n",
       " 'sufficient': 350,\n",
       " 'absorb': 351,\n",
       " 'attention': 352,\n",
       " 'while': 353,\n",
       " 'loathed': 354,\n",
       " 'form': 355,\n",
       " 'society': 356,\n",
       " 'bohemian': 357,\n",
       " 'soul': 358,\n",
       " 'remained': 359,\n",
       " 'lodgings': 360,\n",
       " 'buried': 361,\n",
       " 'among': 362,\n",
       " 'old': 363,\n",
       " 'books': 364,\n",
       " 'alternating': 365,\n",
       " 'between': 366,\n",
       " 'cocaine': 367,\n",
       " 'ambition': 368,\n",
       " 'drowsiness': 369,\n",
       " 'drug': 370,\n",
       " 'fierce': 371,\n",
       " 'energy': 372,\n",
       " 'still': 373,\n",
       " 'ever': 374,\n",
       " 'deeply': 375,\n",
       " 'attracted': 376,\n",
       " 'crime': 377,\n",
       " 'occupied': 378,\n",
       " 'immense': 379,\n",
       " 'faculties': 380,\n",
       " 'observation': 381,\n",
       " 'following': 382,\n",
       " 'clues': 383,\n",
       " 'mysteries': 384,\n",
       " 'abandoned': 385,\n",
       " 'hopeless': 386,\n",
       " 'official': 387,\n",
       " 'police': 388,\n",
       " 'vague': 389,\n",
       " 'doings': 390,\n",
       " 'summons': 391,\n",
       " 'odessa': 392,\n",
       " 'trepoff': 393,\n",
       " 'murder': 394,\n",
       " 'tragedy': 395,\n",
       " 'atkinson': 396,\n",
       " 'brothers': 397,\n",
       " 'trincomalee': 398,\n",
       " 'finally': 399,\n",
       " 'mission': 400,\n",
       " 'accomplished': 401,\n",
       " 'delicately': 402,\n",
       " 'successfully': 403,\n",
       " 'reigning': 404,\n",
       " 'family': 405,\n",
       " 'holland': 406,\n",
       " 'beyond': 407,\n",
       " 'signs': 408,\n",
       " 'activity': 409,\n",
       " 'however': 410,\n",
       " 'merely': 411,\n",
       " 'shared': 412,\n",
       " 'readers': 413,\n",
       " 'daily': 414,\n",
       " 'press': 415,\n",
       " 'former': 416,\n",
       " 'friend': 417,\n",
       " 'companion': 418,\n",
       " 'nightit': 419,\n",
       " 'twentieth': 420,\n",
       " 'march': 421,\n",
       " '1888i': 422,\n",
       " 'returning': 423,\n",
       " 'journey': 424,\n",
       " 'patient': 425,\n",
       " 'returned': 426,\n",
       " 'civil': 427,\n",
       " 'led': 428,\n",
       " 'through': 429,\n",
       " 'passed': 430,\n",
       " 'wellremembered': 431,\n",
       " 'door': 432,\n",
       " 'associated': 433,\n",
       " 'wooing': 434,\n",
       " 'incidents': 435,\n",
       " 'scarlet': 436,\n",
       " 'seized': 437,\n",
       " 'desire': 438,\n",
       " 'employing': 439,\n",
       " 'brilliantly': 440,\n",
       " 'lit': 441,\n",
       " 'even': 442,\n",
       " 'tall': 443,\n",
       " 'spare': 444,\n",
       " 'figure': 445,\n",
       " 'pass': 446,\n",
       " 'twice': 447,\n",
       " 'silhouette': 448,\n",
       " 'against': 449,\n",
       " 'blind': 450,\n",
       " 'pacing': 451,\n",
       " 'swiftly': 452,\n",
       " 'eagerly': 453,\n",
       " 'head': 454,\n",
       " 'sunk': 455,\n",
       " 'chest': 456,\n",
       " 'clasped': 457,\n",
       " 'behind': 458,\n",
       " 'mood': 459,\n",
       " 'habit': 460,\n",
       " 'attitude': 461,\n",
       " 'told': 462,\n",
       " 'their': 463,\n",
       " 'story': 464,\n",
       " 'risen': 465,\n",
       " 'drugcreated': 466,\n",
       " 'dreams': 467,\n",
       " 'hot': 468,\n",
       " 'scent': 469,\n",
       " 'new': 470,\n",
       " 'problem': 471,\n",
       " 'rang': 472,\n",
       " 'bell': 473,\n",
       " 'formerly': 474,\n",
       " 'part': 475,\n",
       " 'effusive': 476,\n",
       " 'glad': 477,\n",
       " 'spoken': 478,\n",
       " 'kindly': 479,\n",
       " 'eye': 480,\n",
       " 'waved': 481,\n",
       " 'across': 482,\n",
       " 'cigars': 483,\n",
       " 'indicated': 484,\n",
       " 'spirit': 485,\n",
       " 'gasogene': 486,\n",
       " 'corner': 487,\n",
       " 'stood': 488,\n",
       " 'fire': 489,\n",
       " 'introspective': 490,\n",
       " 'fashion': 491,\n",
       " 'wedlock': 492,\n",
       " 'suits': 493,\n",
       " 'put': 494,\n",
       " 'pounds': 495,\n",
       " 'should': 496,\n",
       " 'thought': 497,\n",
       " 'trifle': 498,\n",
       " 'fancy': 499,\n",
       " 'intended': 500,\n",
       " 'go': 501,\n",
       " 'harness': 502,\n",
       " 'getting': 503,\n",
       " 'yourself': 504,\n",
       " 'wet': 505,\n",
       " 'clumsy': 506,\n",
       " 'careless': 507,\n",
       " 'servant': 508,\n",
       " 'girl': 509,\n",
       " 'dear': 510,\n",
       " 'too': 511,\n",
       " 'much': 512,\n",
       " 'certainly': 513,\n",
       " 'burned': 514,\n",
       " 'lived': 515,\n",
       " 'few': 516,\n",
       " 'centuries': 517,\n",
       " 'ago': 518,\n",
       " 'true': 519,\n",
       " 'country': 520,\n",
       " 'walk': 521,\n",
       " 'thursday': 522,\n",
       " 'home': 523,\n",
       " 'dreadful': 524,\n",
       " 'mess': 525,\n",
       " 'changed': 526,\n",
       " 'clothes': 527,\n",
       " 'cant': 528,\n",
       " 'mary': 529,\n",
       " 'jane': 530,\n",
       " 'incorrigible': 531,\n",
       " 'wife': 532,\n",
       " 'given': 533,\n",
       " 'notice': 534,\n",
       " 'fail': 535,\n",
       " 'chuckled': 536,\n",
       " 'rubbed': 537,\n",
       " 'long': 538,\n",
       " 'nervous': 539,\n",
       " 'together': 540,\n",
       " 'simplicity': 541,\n",
       " 'inside': 542,\n",
       " 'left': 543,\n",
       " 'shoe': 544,\n",
       " 'firelight': 545,\n",
       " 'strikes': 546,\n",
       " 'leather': 547,\n",
       " 'scored': 548,\n",
       " 'six': 549,\n",
       " 'parallel': 550,\n",
       " 'cuts': 551,\n",
       " 'obviously': 552,\n",
       " 'caused': 553,\n",
       " 'someone': 554,\n",
       " 'carelessly': 555,\n",
       " 'scraped': 556,\n",
       " 'round': 557,\n",
       " 'edges': 558,\n",
       " 'sole': 559,\n",
       " 'order': 560,\n",
       " 'remove': 561,\n",
       " 'crusted': 562,\n",
       " 'mud': 563,\n",
       " 'hence': 564,\n",
       " 'double': 565,\n",
       " 'vile': 566,\n",
       " 'weather': 567,\n",
       " 'malignant': 568,\n",
       " 'bootslitting': 569,\n",
       " 'specimen': 570,\n",
       " 'london': 571,\n",
       " 'slavey': 572,\n",
       " 'walks': 573,\n",
       " 'smelling': 574,\n",
       " 'iodoform': 575,\n",
       " 'black': 576,\n",
       " 'mark': 577,\n",
       " 'nitrate': 578,\n",
       " 'silver': 579,\n",
       " 'forefinger': 580,\n",
       " 'bulge': 581,\n",
       " 'side': 582,\n",
       " 'tophat': 583,\n",
       " 'show': 584,\n",
       " 'secreted': 585,\n",
       " 'stethoscope': 586,\n",
       " 'dull': 587,\n",
       " 'pronounce': 588,\n",
       " 'active': 589,\n",
       " 'member': 590,\n",
       " 'medical': 591,\n",
       " 'profession': 592,\n",
       " 'help': 593,\n",
       " 'laughing': 594,\n",
       " 'ease': 595,\n",
       " 'explained': 596,\n",
       " 'hear': 597,\n",
       " 'reasons': 598,\n",
       " 'thing': 599,\n",
       " 'appears': 600,\n",
       " 'ridiculously': 601,\n",
       " 'simple': 602,\n",
       " 'easily': 603,\n",
       " 'myself': 604,\n",
       " 'though': 605,\n",
       " 'successive': 606,\n",
       " 'instance': 607,\n",
       " 'am': 608,\n",
       " 'baffled': 609,\n",
       " 'until': 610,\n",
       " 'explain': 611,\n",
       " 'believe': 612,\n",
       " 'yours': 613,\n",
       " 'lighting': 614,\n",
       " 'throwing': 615,\n",
       " 'distinction': 616,\n",
       " 'clear': 617,\n",
       " 'example': 618,\n",
       " 'lead': 619,\n",
       " 'hall': 620,\n",
       " 'often': 621,\n",
       " 'hundreds': 622,\n",
       " 'times': 623,\n",
       " 'dont': 624,\n",
       " 'point': 625,\n",
       " 'seventeen': 626,\n",
       " 'because': 627,\n",
       " 'both': 628,\n",
       " 'problems': 629,\n",
       " 'enough': 630,\n",
       " 'chronicle': 631,\n",
       " 'two': 632,\n",
       " 'trifling': 633,\n",
       " 'experiences': 634,\n",
       " 'sheet': 635,\n",
       " 'thick': 636,\n",
       " 'pinktinted': 637,\n",
       " 'notepaper': 638,\n",
       " 'lying': 639,\n",
       " 'open': 640,\n",
       " 'table': 641,\n",
       " 'post': 642,\n",
       " 'read': 643,\n",
       " 'aloud': 644,\n",
       " 'undated': 645,\n",
       " 'without': 646,\n",
       " 'either': 647,\n",
       " 'signature': 648,\n",
       " 'address': 649,\n",
       " 'will': 650,\n",
       " 'call': 651,\n",
       " 'tonight': 652,\n",
       " 'quarter': 653,\n",
       " 'eight': 654,\n",
       " 'oclock': 655,\n",
       " 'desires': 656,\n",
       " 'consult': 657,\n",
       " 'matter': 658,\n",
       " 'deepest': 659,\n",
       " 'moment': 660,\n",
       " 'recent': 661,\n",
       " 'services': 662,\n",
       " 'royal': 663,\n",
       " 'houses': 664,\n",
       " 'europe': 665,\n",
       " 'safely': 666,\n",
       " 'trusted': 667,\n",
       " 'matters': 668,\n",
       " 'importance': 669,\n",
       " 'can': 670,\n",
       " 'exaggerated': 671,\n",
       " 'hour': 672,\n",
       " 'amiss': 673,\n",
       " 'visitor': 674,\n",
       " 'wear': 675,\n",
       " 'mask': 676,\n",
       " 'means': 677,\n",
       " 'capital': 678,\n",
       " 'mistake': 679,\n",
       " 'theorise': 680,\n",
       " 'insensibly': 681,\n",
       " 'begins': 682,\n",
       " 'twist': 683,\n",
       " 'instead': 684,\n",
       " 'carefully': 685,\n",
       " 'examined': 686,\n",
       " 'writing': 687,\n",
       " 'written': 688,\n",
       " 'presumably': 689,\n",
       " 'endeavouring': 690,\n",
       " 'imitate': 691,\n",
       " 'companions': 692,\n",
       " 'processes': 693,\n",
       " 'bought': 694,\n",
       " 'crown': 695,\n",
       " 'packet': 696,\n",
       " 'peculiarly': 697,\n",
       " 'stiff': 698,\n",
       " 'peculiarthat': 699,\n",
       " 'hold': 700,\n",
       " 'light': 701,\n",
       " 'e': 702,\n",
       " 'woven': 703,\n",
       " 'texture': 704,\n",
       " 'asked': 705,\n",
       " 'maker': 706,\n",
       " 'monogram': 707,\n",
       " 'rather': 708,\n",
       " 'gesellschaft': 709,\n",
       " 'company': 710,\n",
       " 'customary': 711,\n",
       " 'contraction': 712,\n",
       " 'like': 713,\n",
       " 'co': 714,\n",
       " 'course': 715,\n",
       " 'papier': 716,\n",
       " 'eg': 717,\n",
       " 'let': 718,\n",
       " 'glance': 719,\n",
       " 'continental': 720,\n",
       " 'gazetteer': 721,\n",
       " 'took': 722,\n",
       " 'heavy': 723,\n",
       " 'brown': 724,\n",
       " 'volume': 725,\n",
       " 'shelves': 726,\n",
       " 'eglow': 727,\n",
       " 'eglonitzhere': 728,\n",
       " 'egria': 729,\n",
       " 'germanspeaking': 730,\n",
       " 'countryin': 731,\n",
       " 'far': 732,\n",
       " 'carlsbad': 733,\n",
       " 'remarkable': 734,\n",
       " 'being': 735,\n",
       " 'scene': 736,\n",
       " 'death': 737,\n",
       " 'wallenstein': 738,\n",
       " 'its': 739,\n",
       " 'numerous': 740,\n",
       " 'glassfactories': 741,\n",
       " 'papermills': 742,\n",
       " 'boy': 743,\n",
       " 'sparkled': 744,\n",
       " 'sent': 745,\n",
       " 'great': 746,\n",
       " 'triumphant': 747,\n",
       " 'cloud': 748,\n",
       " 'made': 749,\n",
       " 'precisely': 750,\n",
       " 'peculiar': 751,\n",
       " 'construction': 752,\n",
       " 'sentencethis': 753,\n",
       " 'frenchman': 754,\n",
       " 'o': 755}"
      ]
     },
     "execution_count": 10,
     "metadata": {},
     "output_type": "execute_result"
    }
   ],
   "source": [
    "tokenizer.word_index"
   ]
  },
  {
   "cell_type": "markdown",
   "id": "2ba71923",
   "metadata": {},
   "source": [
    "This is our dictionary with each word in the data within the list of unique words as the key, and it’s significant portions as value."
   ]
  },
  {
   "cell_type": "code",
   "execution_count": 11,
   "id": "4ce33693",
   "metadata": {},
   "outputs": [
    {
     "name": "stdout",
     "output_type": "stream",
     "text": [
      "The length of vocabulary of training data is 756.\n"
     ]
    }
   ],
   "source": [
    "vocab_size = len(tokenizer.word_index) + 1\n",
    "print('The length of vocabulary of training data is {}.'.format(vocab_size))"
   ]
  },
  {
   "cell_type": "markdown",
   "id": "5df0c75f",
   "metadata": {},
   "source": [
    "## Define X & Y variables"
   ]
  },
  {
   "cell_type": "markdown",
   "id": "5b644aba",
   "metadata": {},
   "source": [
    "In building this neural network, I will club 4 characters together. Using first 3 characters of it, I will predict the fourth one. "
   ]
  },
  {
   "cell_type": "code",
   "execution_count": 12,
   "id": "52da4f7b",
   "metadata": {},
   "outputs": [
    {
     "name": "stdout",
     "output_type": "stream",
     "text": [
      "Number of sequences in data are:  1853\n"
     ]
    }
   ],
   "source": [
    "# Get 4 words in sequence\n",
    "sequences = []\n",
    "\n",
    "for i in range(3,len(sequence_data)): \n",
    "    words = sequence_data[i-3:i+1]\n",
    "    sequences.append(words)\n",
    "    \n",
    "sequences = np.array(sequences)\n",
    "\n",
    "print('Number of sequences in data are: ',len(sequences))"
   ]
  },
  {
   "cell_type": "code",
   "execution_count": 13,
   "id": "4a665858",
   "metadata": {},
   "outputs": [
    {
     "data": {
      "text/plain": [
       "array([[ 56, 205,   1,  57],\n",
       "       [205,   1,  57,   2],\n",
       "       [  1,  57,   2,  47],\n",
       "       [ 57,   2,  47,  25],\n",
       "       [  2,  47,  25,  29]])"
      ]
     },
     "execution_count": 13,
     "metadata": {},
     "output_type": "execute_result"
    }
   ],
   "source": [
    "# View groupings of 4 characters\n",
    "sequences[0:5]"
   ]
  },
  {
   "cell_type": "code",
   "execution_count": 14,
   "id": "34b58605",
   "metadata": {},
   "outputs": [],
   "source": [
    "# Seperate X and Y Values\n",
    "X = []\n",
    "Y = []\n",
    "for i in sequences:\n",
    "    X.append(i[0:3]) \n",
    "    Y.append(i[3])"
   ]
  },
  {
   "cell_type": "code",
   "execution_count": 15,
   "id": "1e06afb4",
   "metadata": {},
   "outputs": [],
   "source": [
    "# Converting X & Y into arrays\n",
    "X = np.array(X)\n",
    "Y = np.array(Y)"
   ]
  },
  {
   "cell_type": "code",
   "execution_count": 16,
   "id": "e90bce20",
   "metadata": {},
   "outputs": [
    {
     "data": {
      "text/plain": [
       "array([[ 56, 205,   1],\n",
       "       [205,   1,  57],\n",
       "       [  1,  57,   2],\n",
       "       [ 57,   2,  47],\n",
       "       [  2,  47,  25]])"
      ]
     },
     "execution_count": 16,
     "metadata": {},
     "output_type": "execute_result"
    }
   ],
   "source": [
    "# View X & Y variables\n",
    "X[0:5]"
   ]
  },
  {
   "cell_type": "code",
   "execution_count": 17,
   "id": "ee74f7ed",
   "metadata": {},
   "outputs": [
    {
     "data": {
      "text/plain": [
       "array([57,  2, 47, 25, 29])"
      ]
     },
     "execution_count": 17,
     "metadata": {},
     "output_type": "execute_result"
    }
   ],
   "source": [
    "Y[0:5]"
   ]
  },
  {
   "cell_type": "markdown",
   "id": "3e45e332",
   "metadata": {},
   "source": [
    "Observe how the groupings of 4 characters above are splitted into X and Y variables."
   ]
  },
  {
   "cell_type": "markdown",
   "id": "7dfe9195",
   "metadata": {},
   "source": [
    "## Encode Y variable"
   ]
  },
  {
   "cell_type": "code",
   "execution_count": 18,
   "id": "f42b1645",
   "metadata": {},
   "outputs": [
    {
     "data": {
      "text/plain": [
       "array([[0., 0., 0., ..., 0., 0., 0.],\n",
       "       [0., 0., 1., ..., 0., 0., 0.],\n",
       "       [0., 0., 0., ..., 0., 0., 0.],\n",
       "       [0., 0., 0., ..., 0., 0., 0.],\n",
       "       [0., 0., 0., ..., 0., 0., 0.]], dtype=float32)"
      ]
     },
     "execution_count": 18,
     "metadata": {},
     "output_type": "execute_result"
    }
   ],
   "source": [
    "from keras.utils import to_categorical\n",
    "Y = to_categorical(Y, num_classes=vocab_size)\n",
    "# Review changes\n",
    "Y[0:5]"
   ]
  },
  {
   "cell_type": "markdown",
   "id": "fb632e8b",
   "metadata": {},
   "source": [
    "## Start Building Recurrent Neural Network (RNN)"
   ]
  },
  {
   "cell_type": "code",
   "execution_count": 19,
   "id": "1db025f2",
   "metadata": {},
   "outputs": [],
   "source": [
    "from keras.models import Sequential\n",
    "from keras.layers import Embedding, LSTM, Dense \n",
    "from keras.callbacks import EarlyStopping "
   ]
  },
  {
   "cell_type": "code",
   "execution_count": 20,
   "id": "d453bf02",
   "metadata": {},
   "outputs": [],
   "source": [
    "# initialize neural network with Sequential model\n",
    "nn = Sequential()\n",
    "\n",
    "# Add Embedding Layer\n",
    "nn.add(Embedding(vocab_size,10,input_length=3))\n",
    "\n",
    "# Create LSTM Layers\n",
    "nn.add(LSTM(1000,return_sequences=True))\n",
    "nn.add(LSTM(1000))\n",
    "\n",
    "# Create a Hidden Dense Layer\n",
    "nn.add(Dense(1000,activation='relu'))\n",
    "\n",
    "# Output layer\n",
    "nn.add(Dense(vocab_size,activation='softmax'))"
   ]
  },
  {
   "cell_type": "code",
   "execution_count": 21,
   "id": "c7c6381e",
   "metadata": {},
   "outputs": [
    {
     "name": "stdout",
     "output_type": "stream",
     "text": [
      "Model: \"sequential\"\n",
      "_________________________________________________________________\n",
      " Layer (type)                Output Shape              Param #   \n",
      "=================================================================\n",
      " embedding (Embedding)       (None, 3, 10)             7560      \n",
      "                                                                 \n",
      " lstm (LSTM)                 (None, 3, 1000)           4044000   \n",
      "                                                                 \n",
      " lstm_1 (LSTM)               (None, 1000)              8004000   \n",
      "                                                                 \n",
      " dense (Dense)               (None, 1000)              1001000   \n",
      "                                                                 \n",
      " dense_1 (Dense)             (None, 756)               756756    \n",
      "                                                                 \n",
      "=================================================================\n",
      "Total params: 13,813,316\n",
      "Trainable params: 13,813,316\n",
      "Non-trainable params: 0\n",
      "_________________________________________________________________\n"
     ]
    }
   ],
   "source": [
    "nn.summary()"
   ]
  },
  {
   "cell_type": "code",
   "execution_count": 22,
   "id": "7b2823e0",
   "metadata": {},
   "outputs": [],
   "source": [
    "early_stop = EarlyStopping(monitor='loss', patience=3)"
   ]
  },
  {
   "cell_type": "code",
   "execution_count": 23,
   "id": "dd631dda",
   "metadata": {},
   "outputs": [],
   "source": [
    "nn.compile(loss='categorical_crossentropy', optimizer='adam', metrics=['accuracy'])"
   ]
  },
  {
   "cell_type": "code",
   "execution_count": 24,
   "id": "7c38bc4f",
   "metadata": {},
   "outputs": [
    {
     "name": "stdout",
     "output_type": "stream",
     "text": [
      "Epoch 1/50\n",
      "58/58 [==============================] - 61s 801ms/step - loss: 6.2322 - accuracy: 0.0480\n",
      "Epoch 2/50\n",
      "58/58 [==============================] - 44s 756ms/step - loss: 5.8609 - accuracy: 0.0453\n",
      "Epoch 3/50\n",
      "58/58 [==============================] - 37s 646ms/step - loss: 5.7610 - accuracy: 0.0534\n",
      "Epoch 4/50\n",
      "58/58 [==============================] - 37s 632ms/step - loss: 5.6953 - accuracy: 0.0507\n",
      "Epoch 5/50\n",
      "58/58 [==============================] - 37s 644ms/step - loss: 5.6023 - accuracy: 0.0507\n",
      "Epoch 6/50\n",
      "58/58 [==============================] - 37s 633ms/step - loss: 5.4164 - accuracy: 0.0534\n",
      "Epoch 7/50\n",
      "58/58 [==============================] - 38s 645ms/step - loss: 5.1496 - accuracy: 0.0712\n",
      "Epoch 8/50\n",
      "58/58 [==============================] - 37s 635ms/step - loss: 4.8348 - accuracy: 0.0750\n",
      "Epoch 9/50\n",
      "58/58 [==============================] - 38s 650ms/step - loss: 4.5799 - accuracy: 0.0831\n",
      "Epoch 10/50\n",
      "58/58 [==============================] - 37s 635ms/step - loss: 4.2836 - accuracy: 0.0982\n",
      "Epoch 11/50\n",
      "58/58 [==============================] - 38s 656ms/step - loss: 4.0161 - accuracy: 0.1069\n",
      "Epoch 12/50\n",
      "58/58 [==============================] - 38s 648ms/step - loss: 3.7680 - accuracy: 0.1403\n",
      "Epoch 13/50\n",
      "58/58 [==============================] - 37s 636ms/step - loss: 3.5726 - accuracy: 0.1457\n",
      "Epoch 14/50\n",
      "58/58 [==============================] - 38s 647ms/step - loss: 3.2996 - accuracy: 0.1765\n",
      "Epoch 15/50\n",
      "58/58 [==============================] - 39s 665ms/step - loss: 3.0464 - accuracy: 0.2029\n",
      "Epoch 16/50\n",
      "58/58 [==============================] - 37s 646ms/step - loss: 2.8074 - accuracy: 0.2504\n",
      "Epoch 17/50\n",
      "58/58 [==============================] - 38s 655ms/step - loss: 2.6149 - accuracy: 0.2779\n",
      "Epoch 18/50\n",
      "58/58 [==============================] - 38s 647ms/step - loss: 2.3599 - accuracy: 0.3238\n",
      "Epoch 19/50\n",
      "58/58 [==============================] - 39s 668ms/step - loss: 2.2111 - accuracy: 0.3562\n",
      "Epoch 20/50\n",
      "58/58 [==============================] - 37s 637ms/step - loss: 2.0544 - accuracy: 0.3907\n",
      "Epoch 21/50\n",
      "58/58 [==============================] - 37s 645ms/step - loss: 1.8259 - accuracy: 0.4582\n",
      "Epoch 22/50\n",
      "58/58 [==============================] - 38s 655ms/step - loss: 1.6727 - accuracy: 0.4862\n",
      "Epoch 23/50\n",
      "58/58 [==============================] - 36s 624ms/step - loss: 1.6009 - accuracy: 0.4987\n",
      "Epoch 24/50\n",
      "58/58 [==============================] - 38s 651ms/step - loss: 1.3571 - accuracy: 0.5861\n",
      "Epoch 25/50\n",
      "58/58 [==============================] - 36s 629ms/step - loss: 1.2387 - accuracy: 0.5990\n",
      "Epoch 26/50\n",
      "58/58 [==============================] - 36s 626ms/step - loss: 1.1312 - accuracy: 0.6503\n",
      "Epoch 27/50\n",
      "58/58 [==============================] - 36s 622ms/step - loss: 1.0177 - accuracy: 0.6778\n",
      "Epoch 28/50\n",
      "58/58 [==============================] - 36s 620ms/step - loss: 0.9081 - accuracy: 0.7145\n",
      "Epoch 29/50\n",
      "58/58 [==============================] - 36s 624ms/step - loss: 0.8297 - accuracy: 0.7393\n",
      "Epoch 30/50\n",
      "58/58 [==============================] - 38s 652ms/step - loss: 0.7528 - accuracy: 0.7582\n",
      "Epoch 31/50\n",
      "58/58 [==============================] - 39s 671ms/step - loss: 0.6115 - accuracy: 0.8079\n",
      "Epoch 32/50\n",
      "58/58 [==============================] - 38s 656ms/step - loss: 0.5441 - accuracy: 0.8392\n",
      "Epoch 33/50\n",
      "58/58 [==============================] - 38s 663ms/step - loss: 0.4568 - accuracy: 0.8602\n",
      "Epoch 34/50\n",
      "58/58 [==============================] - 39s 670ms/step - loss: 0.4001 - accuracy: 0.8818\n",
      "Epoch 35/50\n",
      "58/58 [==============================] - 39s 668ms/step - loss: 0.3774 - accuracy: 0.8840\n",
      "Epoch 36/50\n",
      "58/58 [==============================] - 38s 656ms/step - loss: 0.3764 - accuracy: 0.8834\n",
      "Epoch 37/50\n",
      "58/58 [==============================] - 38s 661ms/step - loss: 0.4032 - accuracy: 0.8818\n",
      "Epoch 38/50\n",
      "58/58 [==============================] - 38s 660ms/step - loss: 0.3363 - accuracy: 0.8980\n",
      "Epoch 39/50\n",
      "58/58 [==============================] - 39s 671ms/step - loss: 0.3500 - accuracy: 0.8921\n",
      "Epoch 40/50\n",
      "58/58 [==============================] - 38s 656ms/step - loss: 0.4193 - accuracy: 0.8689\n",
      "Epoch 41/50\n",
      "58/58 [==============================] - 38s 664ms/step - loss: 0.3683 - accuracy: 0.8851\n"
     ]
    }
   ],
   "source": [
    "hist = nn.fit(X, Y, epochs=50, callbacks=[early_stop])"
   ]
  },
  {
   "cell_type": "markdown",
   "id": "2a14762e",
   "metadata": {},
   "source": [
    "## Visualize learning curve"
   ]
  },
  {
   "cell_type": "code",
   "execution_count": 25,
   "id": "b86d1bf7",
   "metadata": {},
   "outputs": [
    {
     "data": {
      "image/png": "[encoded data removed]",
      "text/plain": [
       "<Figure size 1500x500 with 2 Axes>"
      ]
     },
     "metadata": {},
     "output_type": "display_data"
    }
   ],
   "source": [
    "plt.figure(figsize=(15,5))\n",
    "plt.subplot(1,2,1)\n",
    "plt.plot(hist.history['accuracy'], color = 'green')\n",
    "plt.subplot(1,2,2)\n",
    "plt.plot(hist.history['loss'], color = 'red')\n",
    "plt.show()"
   ]
  },
  {
   "cell_type": "markdown",
   "id": "5bb45439",
   "metadata": {},
   "source": [
    "* Accuracy is drastically increasing after 10 epochs.\n",
    "* Loss is rapidly decreasing upto 30 epochs and them the curve flattens."
   ]
  },
  {
   "cell_type": "markdown",
   "id": "38a241a3",
   "metadata": {},
   "source": [
    "## Evaluate model"
   ]
  },
  {
   "cell_type": "code",
   "execution_count": 26,
   "id": "c7b5dc88",
   "metadata": {},
   "outputs": [
    {
     "name": "stdout",
     "output_type": "stream",
     "text": [
      "58/58 [==============================] - 11s 110ms/step - loss: 0.2047 - accuracy: 0.9352\n"
     ]
    },
    {
     "data": {
      "text/plain": [
       "[0.2046923190355301, 0.9352401494979858]"
      ]
     },
     "execution_count": 26,
     "metadata": {},
     "output_type": "execute_result"
    }
   ],
   "source": [
    "nn.evaluate(X,Y)"
   ]
  },
  {
   "cell_type": "markdown",
   "id": "dd9b3fcd",
   "metadata": {},
   "source": [
    "### The accuracy of RNN is 93%."
   ]
  },
  {
   "cell_type": "markdown",
   "id": "e5327d1a",
   "metadata": {},
   "source": [
    "## Define a function for next word prediction"
   ]
  },
  {
   "cell_type": "code",
   "execution_count": 27,
   "id": "593d7560",
   "metadata": {},
   "outputs": [],
   "source": [
    "def predict_next_word(model,tokenizer,text):\n",
    "    seq = tokenizer.texts_to_sequences([text])\n",
    "    seq = np.array(seq)\n",
    "    preds = np.argmax(model.predict(seq)) #gives index having max probability\n",
    "    for key, value in tokenizer.word_index.items(): #finds key value pair from word dictionary\n",
    "        if value==preds:\n",
    "            predicted_word = key\n",
    "            break\n",
    "    print(predicted_word)\n",
    "    return predicted_word"
   ]
  },
  {
   "cell_type": "code",
   "execution_count": 28,
   "id": "3a5549a0",
   "metadata": {},
   "outputs": [
    {
     "name": "stdout",
     "output_type": "stream",
     "text": [
      "1/1 [==============================] - 3s 3s/step\n",
      "sherlock\n"
     ]
    },
    {
     "data": {
      "text/plain": [
       "'sherlock'"
      ]
     },
     "execution_count": 28,
     "metadata": {},
     "output_type": "execute_result"
    }
   ],
   "source": [
    "predict_next_word(nn,tokenizer,'The adventures of')"
   ]
  },
  {
   "cell_type": "code",
   "execution_count": 29,
   "id": "bcfb4856",
   "metadata": {},
   "outputs": [
    {
     "name": "stdout",
     "output_type": "stream",
     "text": [
      "1/1 [==============================] - 0s 62ms/step\n",
      "gutenberg\n"
     ]
    },
    {
     "data": {
      "text/plain": [
       "'gutenberg'"
      ]
     },
     "execution_count": 29,
     "metadata": {},
     "output_type": "execute_result"
    }
   ],
   "source": [
    "predict_next_word(nn,tokenizer,'an anonymous project')"
   ]
  },
  {
   "cell_type": "markdown",
   "id": "bf63a223",
   "metadata": {},
   "source": [
    "### Our RNN is predicting next words correctly."
   ]
  }
 ],
 "metadata": {
  "kernelspec": {
   "display_name": "Python 3 (ipykernel)",
   "language": "python",
   "name": "python3"
  },
  "language_info": {
   "codemirror_mode": {
    "name": "ipython",
    "version": 3
   },
   "file_extension": ".py",
   "mimetype": "text/x-python",
   "name": "python",
   "nbconvert_exporter": "python",
   "pygments_lexer": "ipython3",
   "version": "3.9.13"
  }
 },
 "nbformat": 4,
 "nbformat_minor": 5
}
