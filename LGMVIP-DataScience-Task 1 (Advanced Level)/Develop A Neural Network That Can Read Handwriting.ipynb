{
 "cells": [
  {
   "cell_type": "markdown",
   "id": "6d52bfd7",
   "metadata": {},
   "source": [
    "## Problem Statement\n",
    "In this project, we have to develop a neural network which can read handwritten digits and classify them accordingly. The dataset is taken from MNIST. Now let's start building our convolution neural network. "
   ]
  },
  {
   "cell_type": "markdown",
   "id": "7955de04",
   "metadata": {},
   "source": [
    "## Load data"
   ]
  },
  {
   "cell_type": "code",
   "execution_count": 1,
   "id": "43115c89",
   "metadata": {},
   "outputs": [],
   "source": [
    "from keras.datasets import mnist\n",
    "(xtrain, ytrain),(xtest, ytest) = mnist.load_data()"
   ]
  },
  {
   "cell_type": "code",
   "execution_count": 2,
   "id": "393f23cd",
   "metadata": {},
   "outputs": [
    {
     "name": "stdout",
     "output_type": "stream",
     "text": [
      "(60000, 28, 28) (60000,)\n",
      "(10000, 28, 28) (10000,)\n"
     ]
    }
   ],
   "source": [
    "# Viewing shapes of splitted data\n",
    "print(xtrain.shape, ytrain.shape)\n",
    "print(xtest.shape, ytest.shape)"
   ]
  },
  {
   "cell_type": "markdown",
   "id": "86beb889",
   "metadata": {},
   "source": [
    "We are taking 60,000 handwritten digit images for training and 10,000 for testing."
   ]
  },
  {
   "cell_type": "markdown",
   "id": "50814a5d",
   "metadata": {},
   "source": [
    "## Data visualization"
   ]
  },
  {
   "cell_type": "code",
   "execution_count": 3,
   "id": "ba839c8e",
   "metadata": {},
   "outputs": [
    {
     "data": {
      "image/png": "[encoded data removed]",
      "text/plain": [
       "<Figure size 1200x500 with 10 Axes>"
      ]
     },
     "metadata": {},
     "output_type": "display_data"
    }
   ],
   "source": [
    "import matplotlib.pyplot as plt\n",
    "plt.figure(figsize=(12,5))\n",
    "for i in range(10):\n",
    "    plt.subplot(2,5,i+1)\n",
    "    plt.imshow(xtrain[i], cmap='gray')\n",
    "    plt.title(f'Image Class : {ytrain[i]}')\n",
    "plt.show()"
   ]
  },
  {
   "cell_type": "markdown",
   "id": "11f6c98a",
   "metadata": {},
   "source": [
    "All the handwritten digits seem correctly classified."
   ]
  },
  {
   "cell_type": "markdown",
   "id": "6e8c15ce",
   "metadata": {},
   "source": [
    "## Data preprocessing"
   ]
  },
  {
   "cell_type": "code",
   "execution_count": 4,
   "id": "c159f241",
   "metadata": {},
   "outputs": [],
   "source": [
    "# Scaling the data\n",
    "xtrain_scaled = xtrain/255\n",
    "xtest_scaled = xtest/255"
   ]
  },
  {
   "cell_type": "markdown",
   "id": "02d48eed",
   "metadata": {},
   "source": [
    "This will convert x variable in 0 to 1 range."
   ]
  },
  {
   "cell_type": "code",
   "execution_count": 5,
   "id": "01ff1569",
   "metadata": {},
   "outputs": [],
   "source": [
    "# Encode the target variable\n",
    "from keras.utils import to_categorical\n",
    "ytrain_cat = to_categorical(ytrain)\n",
    "ytest_cat = to_categorical(ytest)"
   ]
  },
  {
   "cell_type": "code",
   "execution_count": 6,
   "id": "dd8d3f8a",
   "metadata": {},
   "outputs": [
    {
     "data": {
      "text/plain": [
       "array([[0., 0., 0., 0., 0., 0., 0., 1., 0., 0.],\n",
       "       [0., 0., 1., 0., 0., 0., 0., 0., 0., 0.],\n",
       "       [0., 1., 0., 0., 0., 0., 0., 0., 0., 0.],\n",
       "       [1., 0., 0., 0., 0., 0., 0., 0., 0., 0.],\n",
       "       [0., 0., 0., 0., 1., 0., 0., 0., 0., 0.]], dtype=float32)"
      ]
     },
     "execution_count": 6,
     "metadata": {},
     "output_type": "execute_result"
    }
   ],
   "source": [
    "# Encoded first 5 terms\n",
    "ytest_cat[0:5]"
   ]
  },
  {
   "cell_type": "code",
   "execution_count": 7,
   "id": "3029f027",
   "metadata": {},
   "outputs": [
    {
     "data": {
      "text/plain": [
       "array([7, 2, 1, 0, 4], dtype=uint8)"
      ]
     },
     "execution_count": 7,
     "metadata": {},
     "output_type": "execute_result"
    }
   ],
   "source": [
    "# Original first 5 terms\n",
    "ytest[0:5]"
   ]
  },
  {
   "cell_type": "markdown",
   "id": "c80491f8",
   "metadata": {},
   "source": [
    "## Building CNN"
   ]
  },
  {
   "cell_type": "code",
   "execution_count": 8,
   "id": "0404c31b",
   "metadata": {},
   "outputs": [],
   "source": [
    "# Importing necessary modules\n",
    "from keras.models import Sequential\n",
    "from keras.layers import Convolution2D, MaxPooling2D, BatchNormalization, Dropout, Flatten, Dense\n",
    "from keras.callbacks import EarlyStopping"
   ]
  },
  {
   "cell_type": "code",
   "execution_count": 9,
   "id": "ca0850bb",
   "metadata": {},
   "outputs": [],
   "source": [
    "# initialize neural network with Sequential model\n",
    "nn = Sequential()\n",
    "\n",
    "# Convolution Layer 1\n",
    "nn.add(Convolution2D(filters=16,kernel_size=(3,3),input_shape=(28,28,1)))\n",
    "nn.add(MaxPooling2D(pool_size=(2,2)))\n",
    "nn.add(BatchNormalization())\n",
    "nn.add(Dropout(0.1))\n",
    "\n",
    "# Convolution Layer 2\n",
    "nn.add(Convolution2D(filters=16, kernel_size=(3,3)))\n",
    "nn.add(MaxPooling2D(pool_size=(2,2)))\n",
    "nn.add(BatchNormalization())\n",
    "nn.add(Dropout(0.1))\n",
    "\n",
    "# Flatten Layer\n",
    "nn.add(Flatten())\n",
    "\n",
    "# Hidden Dense Layers\n",
    "nn.add(Dense(128,activation='relu'))\n",
    "nn.add(Dense(128,activation='relu'))\n",
    "\n",
    "# Output Layer\n",
    "nn.add(Dense(10, activation='softmax'))"
   ]
  },
  {
   "cell_type": "code",
   "execution_count": 10,
   "id": "1a01f810",
   "metadata": {},
   "outputs": [
    {
     "name": "stdout",
     "output_type": "stream",
     "text": [
      "Model: \"sequential\"\n",
      "_________________________________________________________________\n",
      " Layer (type)                Output Shape              Param #   \n",
      "=================================================================\n",
      " conv2d (Conv2D)             (None, 26, 26, 16)        160       \n",
      "                                                                 \n",
      " max_pooling2d (MaxPooling2D  (None, 13, 13, 16)       0         \n",
      " )                                                               \n",
      "                                                                 \n",
      " batch_normalization (BatchN  (None, 13, 13, 16)       64        \n",
      " ormalization)                                                   \n",
      "                                                                 \n",
      " dropout (Dropout)           (None, 13, 13, 16)        0         \n",
      "                                                                 \n",
      " conv2d_1 (Conv2D)           (None, 11, 11, 16)        2320      \n",
      "                                                                 \n",
      " max_pooling2d_1 (MaxPooling  (None, 5, 5, 16)         0         \n",
      " 2D)                                                             \n",
      "                                                                 \n",
      " batch_normalization_1 (Batc  (None, 5, 5, 16)         64        \n",
      " hNormalization)                                                 \n",
      "                                                                 \n",
      " dropout_1 (Dropout)         (None, 5, 5, 16)          0         \n",
      "                                                                 \n",
      " flatten (Flatten)           (None, 400)               0         \n",
      "                                                                 \n",
      " dense (Dense)               (None, 128)               51328     \n",
      "                                                                 \n",
      " dense_1 (Dense)             (None, 128)               16512     \n",
      "                                                                 \n",
      " dense_2 (Dense)             (None, 10)                1290      \n",
      "                                                                 \n",
      "=================================================================\n",
      "Total params: 71,738\n",
      "Trainable params: 71,674\n",
      "Non-trainable params: 64\n",
      "_________________________________________________________________\n"
     ]
    }
   ],
   "source": [
    "nn.summary()"
   ]
  },
  {
   "cell_type": "markdown",
   "id": "80748708",
   "metadata": {},
   "source": [
    "We have built our convolution neural network."
   ]
  },
  {
   "cell_type": "code",
   "execution_count": 11,
   "id": "5b9060af",
   "metadata": {},
   "outputs": [],
   "source": [
    "# Early Stopping\n",
    "early_stop = EarlyStopping(monitor='val_loss',patience=3)"
   ]
  },
  {
   "cell_type": "code",
   "execution_count": 12,
   "id": "8c589420",
   "metadata": {},
   "outputs": [],
   "source": [
    "nn.compile(loss='categorical_crossentropy', optimizer='adam', metrics=['accuracy'])"
   ]
  },
  {
   "cell_type": "code",
   "execution_count": 13,
   "id": "ebdc8d73",
   "metadata": {},
   "outputs": [
    {
     "name": "stdout",
     "output_type": "stream",
     "text": [
      "Epoch 1/100\n",
      "1500/1500 [==============================] - 39s 23ms/step - loss: 0.1684 - accuracy: 0.9469 - val_loss: 0.0999 - val_accuracy: 0.9707\n",
      "Epoch 2/100\n",
      "1500/1500 [==============================] - 35s 23ms/step - loss: 0.0662 - accuracy: 0.9784 - val_loss: 0.0606 - val_accuracy: 0.9816\n",
      "Epoch 3/100\n",
      "1500/1500 [==============================] - 33s 22ms/step - loss: 0.0479 - accuracy: 0.9847 - val_loss: 0.0526 - val_accuracy: 0.9859\n",
      "Epoch 4/100\n",
      "1500/1500 [==============================] - 34s 23ms/step - loss: 0.0404 - accuracy: 0.9872 - val_loss: 0.0582 - val_accuracy: 0.9831\n",
      "Epoch 5/100\n",
      "1500/1500 [==============================] - 35s 23ms/step - loss: 0.0353 - accuracy: 0.9888 - val_loss: 0.0486 - val_accuracy: 0.9862\n",
      "Epoch 6/100\n",
      "1500/1500 [==============================] - 36s 24ms/step - loss: 0.0304 - accuracy: 0.9900 - val_loss: 0.0525 - val_accuracy: 0.9874\n",
      "Epoch 7/100\n",
      "1500/1500 [==============================] - 34s 23ms/step - loss: 0.0265 - accuracy: 0.9914 - val_loss: 0.0609 - val_accuracy: 0.9852\n",
      "Epoch 8/100\n",
      "1500/1500 [==============================] - 34s 23ms/step - loss: 0.0225 - accuracy: 0.9924 - val_loss: 0.0613 - val_accuracy: 0.9868\n"
     ]
    }
   ],
   "source": [
    "# Start training the neural network\n",
    "hist = nn.fit(xtrain_scaled, ytrain_cat, validation_split=0.2, epochs=100, batch_size=32, callbacks=[early_stop])"
   ]
  },
  {
   "cell_type": "code",
   "execution_count": 14,
   "id": "f26847f8",
   "metadata": {},
   "outputs": [
    {
     "name": "stdout",
     "output_type": "stream",
     "text": [
      "313/313 [==============================] - 3s 8ms/step\n"
     ]
    }
   ],
   "source": [
    "# Prediction\n",
    "ypred_test = nn.predict(xtest_scaled)"
   ]
  },
  {
   "cell_type": "code",
   "execution_count": 15,
   "id": "385cc2e7",
   "metadata": {},
   "outputs": [
    {
     "data": {
      "text/plain": [
       "array([[8.59456591e-16, 3.59855028e-11, 3.93557080e-08, 1.54184736e-08,\n",
       "        6.21584805e-16, 7.15824372e-13, 5.70508661e-18, 1.00000000e+00,\n",
       "        3.54080931e-10, 1.29838229e-09],\n",
       "       [1.42277981e-13, 4.09280154e-14, 1.00000000e+00, 3.34646581e-15,\n",
       "        5.27488032e-23, 4.84281331e-22, 3.51465268e-19, 2.18474768e-14,\n",
       "        6.26791874e-17, 1.11230460e-22],\n",
       "       [1.90467697e-10, 9.99999881e-01, 1.07332401e-08, 5.66287954e-11,\n",
       "        5.71260328e-09, 1.06869247e-09, 5.79092677e-11, 1.77672220e-07,\n",
       "        3.40093242e-09, 4.41902728e-08],\n",
       "       [9.99999762e-01, 8.89219032e-10, 1.60517118e-07, 1.45998269e-09,\n",
       "        6.71052947e-09, 2.63234989e-10, 5.65719809e-08, 4.08989287e-09,\n",
       "        1.65614189e-09, 1.41133665e-08],\n",
       "       [1.22156374e-11, 4.72087300e-11, 1.45531449e-12, 1.61622506e-13,\n",
       "        9.99999285e-01, 3.12354072e-14, 4.29596948e-11, 4.28501991e-11,\n",
       "        1.42636415e-11, 7.47049341e-07]], dtype=float32)"
      ]
     },
     "execution_count": 15,
     "metadata": {},
     "output_type": "execute_result"
    }
   ],
   "source": [
    "ypred_test[0:5]"
   ]
  },
  {
   "cell_type": "markdown",
   "id": "a99105ba",
   "metadata": {},
   "source": [
    "These are probabilities. We need to convert them into predictions."
   ]
  },
  {
   "cell_type": "code",
   "execution_count": 16,
   "id": "11092188",
   "metadata": {},
   "outputs": [],
   "source": [
    "# Convert probabalities into predictions\n",
    "ypred_classes = []\n",
    "\n",
    "for i in range(ypred_test.shape[0]):\n",
    "    ypred_classes.append(ypred_test[i].argmax())\n",
    "    \n",
    "# Viewing first 5 terms\n",
    "    ypred_classes[0:5]"
   ]
  },
  {
   "cell_type": "code",
   "execution_count": 17,
   "id": "16e55f7f",
   "metadata": {},
   "outputs": [
    {
     "name": "stdout",
     "output_type": "stream",
     "text": [
      "Accuracy:  98.77 %\n",
      "-----------------------------------------------\n",
      "Confusion matrix: \n",
      " [[ 977    0    1    0    0    0    1    1    0    0]\n",
      " [   0 1132    0    0    0    0    1    2    0    0]\n",
      " [   0    5 1023    0    1    0    1    2    0    0]\n",
      " [   0    0    1 1001    0    3    0    1    4    0]\n",
      " [   0    0    1    0  959    0    3    2    0   17]\n",
      " [   4    0    0    9    0  875    2    1    0    1]\n",
      " [   7    2    1    0    1    1  945    0    1    0]\n",
      " [   1    1    7    2    0    0    0 1015    0    2]\n",
      " [   1    0    0    1    3    0    1    1  961    6]\n",
      " [   2    2    1    4    1    6    0    3    1  989]]\n",
      "-----------------------------------------------\n",
      "Classification report: \n",
      "               precision    recall  f1-score   support\n",
      "\n",
      "           0       0.98      1.00      0.99       980\n",
      "           1       0.99      1.00      0.99      1135\n",
      "           2       0.99      0.99      0.99      1032\n",
      "           3       0.98      0.99      0.99      1010\n",
      "           4       0.99      0.98      0.99       982\n",
      "           5       0.99      0.98      0.98       892\n",
      "           6       0.99      0.99      0.99       958\n",
      "           7       0.99      0.99      0.99      1028\n",
      "           8       0.99      0.99      0.99       974\n",
      "           9       0.97      0.98      0.98      1009\n",
      "\n",
      "    accuracy                           0.99     10000\n",
      "   macro avg       0.99      0.99      0.99     10000\n",
      "weighted avg       0.99      0.99      0.99     10000\n",
      "\n"
     ]
    }
   ],
   "source": [
    "# Evaluation using sklearn metrics\n",
    "from sklearn.metrics import accuracy_score, confusion_matrix, classification_report\n",
    "print('Accuracy: ', accuracy_score(ytest, ypred_classes)*100, '%')\n",
    "print('-----------------------------------------------')\n",
    "print('Confusion matrix: \\n', confusion_matrix(ytest, ypred_classes))\n",
    "print('-----------------------------------------------')\n",
    "print('Classification report: \\n', classification_report(ytest, ypred_classes))"
   ]
  },
  {
   "cell_type": "markdown",
   "id": "38e39484",
   "metadata": {},
   "source": [
    "### This neural network has 98% accuracy and it is ready to be used for handwritten digit prediction."
   ]
  }
 ],
 "metadata": {
  "kernelspec": {
   "display_name": "Python 3 (ipykernel)",
   "language": "python",
   "name": "python3"
  },
  "language_info": {
   "codemirror_mode": {
    "name": "ipython",
    "version": 3
   },
   "file_extension": ".py",
   "mimetype": "text/x-python",
   "name": "python",
   "nbconvert_exporter": "python",
   "pygments_lexer": "ipython3",
   "version": "3.9.13"
  }
 },
 "nbformat": 4,
 "nbformat_minor": 5
}
